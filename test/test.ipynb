{
 "cells": [
  {
   "cell_type": "code",
   "execution_count": 1,
   "metadata": {},
   "outputs": [],
   "source": [
    "import pandas as pd\n",
    "import sys\n",
    "sys.path\n",
    "helpers = \"../main\"\n",
    "if helpers not in sys.path:\n",
    "    sys.path.insert(0, helpers)"
   ]
  },
  {
   "cell_type": "code",
   "execution_count": 28,
   "metadata": {},
   "outputs": [],
   "source": [
    "import geckoAdmin as gk"
   ]
  },
  {
   "cell_type": "code",
   "execution_count": 30,
   "metadata": {},
   "outputs": [
    {
     "data": {
      "text/plain": [
       "<module 'geckoAdmin' from '/Users/carelchay/PycharmProjects/simple_api/test/../main/geckoAdmin.py'>"
      ]
     },
     "execution_count": 30,
     "metadata": {},
     "output_type": "execute_result"
    }
   ],
   "source": [
    "import importlib\n",
    "importlib.reload(gk)"
   ]
  },
  {
   "cell_type": "code",
   "execution_count": 3,
   "metadata": {},
   "outputs": [],
   "source": [
    "from pycoingecko import CoinGeckoAPI\n",
    "from datetime import datetime\n",
    "import time\n",
    "cg = CoinGeckoAPI()"
   ]
  },
  {
   "cell_type": "markdown",
   "metadata": {},
   "source": [
    "# Prices for a given time period\n",
    "\n",
    "## Inputs\n",
    "\n",
    " crypto identifier : `string`\n",
    " start_date : `datetime`\n",
    " end_date : `datetime`\n",
    "\n",
    " ## Outputs\n",
    " Pandas dataframe of the prices (SGD), market cap & total volume"
   ]
  },
  {
   "cell_type": "code",
   "execution_count": 4,
   "metadata": {},
   "outputs": [],
   "source": [
    "# Collection of ticker to id mappings\n",
    "id_maps = {'ETH' : 'ethereum'\n",
    "           , 'BTC' : 'bitcoin'\n",
    "           , 'USDC' : 'usd-coin'\n",
    "           , 'AXS' : 'axie-infinity'}"
   ]
  },
  {
   "cell_type": "code",
   "execution_count": 5,
   "metadata": {},
   "outputs": [],
   "source": [
    "from datetime import datetime\n",
    "import time\n",
    "start= \"01-01-2023\"\n",
    "start = datetime.strptime(start,\"%d-%m-%Y\")\n",
    "# start=time.mktime(start.timetuple())\n",
    "\n",
    "end = \"01-06-2023\"\n",
    "end = datetime.strptime(end,\"%d-%m-%Y\")\n",
    "# end=time.mktime(end.timetuple())"
   ]
  },
  {
   "cell_type": "code",
   "execution_count": 6,
   "metadata": {},
   "outputs": [],
   "source": [
    "df = gk.get_coin_info(coin_id='ethereum', start_date=start, end_date=end)"
   ]
  },
  {
   "cell_type": "code",
   "execution_count": 7,
   "metadata": {},
   "outputs": [
    {
     "data": {
      "text/plain": [
       "True"
      ]
     },
     "execution_count": 7,
     "metadata": {},
     "output_type": "execute_result"
    }
   ],
   "source": [
    "df.datetime.min() >= datetime.strptime(\"01-01-2023\",\"%d-%m-%Y\")"
   ]
  },
  {
   "cell_type": "code",
   "execution_count": 9,
   "metadata": {},
   "outputs": [
    {
     "data": {
      "text/html": [
       "<div>\n",
       "<style scoped>\n",
       "    .dataframe tbody tr th:only-of-type {\n",
       "        vertical-align: middle;\n",
       "    }\n",
       "\n",
       "    .dataframe tbody tr th {\n",
       "        vertical-align: top;\n",
       "    }\n",
       "\n",
       "    .dataframe thead th {\n",
       "        text-align: right;\n",
       "    }\n",
       "</style>\n",
       "<table border=\"1\" class=\"dataframe\">\n",
       "  <thead>\n",
       "    <tr style=\"text-align: right;\">\n",
       "      <th></th>\n",
       "      <th>datetime</th>\n",
       "      <th>prices_sgd</th>\n",
       "      <th>market_cap_sgd</th>\n",
       "      <th>total_volumes</th>\n",
       "    </tr>\n",
       "  </thead>\n",
       "  <tbody>\n",
       "    <tr>\n",
       "      <th>0</th>\n",
       "      <td>2023-01-01</td>\n",
       "      <td>1604.162722</td>\n",
       "      <td>1.932975e+11</td>\n",
       "      <td>3.876105e+09</td>\n",
       "    </tr>\n",
       "    <tr>\n",
       "      <th>1</th>\n",
       "      <td>2023-01-02</td>\n",
       "      <td>1607.748728</td>\n",
       "      <td>1.937587e+11</td>\n",
       "      <td>2.918871e+09</td>\n",
       "    </tr>\n",
       "    <tr>\n",
       "      <th>2</th>\n",
       "      <td>2023-01-03</td>\n",
       "      <td>1629.168291</td>\n",
       "      <td>1.965266e+11</td>\n",
       "      <td>5.158446e+09</td>\n",
       "    </tr>\n",
       "    <tr>\n",
       "      <th>3</th>\n",
       "      <td>2023-01-04</td>\n",
       "      <td>1633.974980</td>\n",
       "      <td>1.969494e+11</td>\n",
       "      <td>4.553926e+09</td>\n",
       "    </tr>\n",
       "    <tr>\n",
       "      <th>4</th>\n",
       "      <td>2023-01-05</td>\n",
       "      <td>1685.031002</td>\n",
       "      <td>2.029187e+11</td>\n",
       "      <td>9.021987e+09</td>\n",
       "    </tr>\n",
       "  </tbody>\n",
       "</table>\n",
       "</div>"
      ],
      "text/plain": [
       "    datetime   prices_sgd  market_cap_sgd  total_volumes\n",
       "0 2023-01-01  1604.162722    1.932975e+11   3.876105e+09\n",
       "1 2023-01-02  1607.748728    1.937587e+11   2.918871e+09\n",
       "2 2023-01-03  1629.168291    1.965266e+11   5.158446e+09\n",
       "3 2023-01-04  1633.974980    1.969494e+11   4.553926e+09\n",
       "4 2023-01-05  1685.031002    2.029187e+11   9.021987e+09"
      ]
     },
     "execution_count": 9,
     "metadata": {},
     "output_type": "execute_result"
    }
   ],
   "source": [
    "df.head()"
   ]
  },
  {
   "cell_type": "code",
   "execution_count": 24,
   "metadata": {},
   "outputs": [],
   "source": [
    "a = df.dtypes.to_list()[1]"
   ]
  },
  {
   "cell_type": "code",
   "execution_count": 25,
   "metadata": {},
   "outputs": [
    {
     "data": {
      "text/plain": [
       "numpy.dtypes.Float64DType"
      ]
     },
     "execution_count": 25,
     "metadata": {},
     "output_type": "execute_result"
    }
   ],
   "source": [
    "type(a)"
   ]
  },
  {
   "cell_type": "code",
   "execution_count": 26,
   "metadata": {},
   "outputs": [
    {
     "data": {
      "text/plain": [
       "True"
      ]
     },
     "execution_count": 26,
     "metadata": {},
     "output_type": "execute_result"
    }
   ],
   "source": [
    "a==np.dtype('float64')"
   ]
  },
  {
   "cell_type": "code",
   "execution_count": 16,
   "metadata": {},
   "outputs": [
    {
     "data": {
      "text/plain": [
       "<module 'numpy.dtypes' from '/Users/carelchay/.pyenv/versions/3.9.11/envs/py_simple_api/lib/python3.9/site-packages/numpy/dtypes.py'>"
      ]
     },
     "execution_count": 16,
     "metadata": {},
     "output_type": "execute_result"
    }
   ],
   "source": [
    "np.dtypes"
   ]
  },
  {
   "cell_type": "code",
   "execution_count": 31,
   "metadata": {},
   "outputs": [],
   "source": [
    "tdf = gk.get_all_coin_info(start_date = start, end_date = end)"
   ]
  },
  {
   "cell_type": "code",
   "execution_count": 33,
   "metadata": {},
   "outputs": [
    {
     "data": {
      "text/html": [
       "<div>\n",
       "<style scoped>\n",
       "    .dataframe tbody tr th:only-of-type {\n",
       "        vertical-align: middle;\n",
       "    }\n",
       "\n",
       "    .dataframe tbody tr th {\n",
       "        vertical-align: top;\n",
       "    }\n",
       "\n",
       "    .dataframe thead th {\n",
       "        text-align: right;\n",
       "    }\n",
       "</style>\n",
       "<table border=\"1\" class=\"dataframe\">\n",
       "  <thead>\n",
       "    <tr style=\"text-align: right;\">\n",
       "      <th></th>\n",
       "      <th>datetime</th>\n",
       "      <th>prices_sgd</th>\n",
       "      <th>market_cap_sgd</th>\n",
       "      <th>total_volumes</th>\n",
       "      <th>coin</th>\n",
       "    </tr>\n",
       "  </thead>\n",
       "  <tbody>\n",
       "    <tr>\n",
       "      <th>0</th>\n",
       "      <td>2023-01-01</td>\n",
       "      <td>1604.162722</td>\n",
       "      <td>1.932975e+11</td>\n",
       "      <td>3.876105e+09</td>\n",
       "      <td>ETH</td>\n",
       "    </tr>\n",
       "    <tr>\n",
       "      <th>1</th>\n",
       "      <td>2023-01-02</td>\n",
       "      <td>1607.748728</td>\n",
       "      <td>1.937587e+11</td>\n",
       "      <td>2.918871e+09</td>\n",
       "      <td>ETH</td>\n",
       "    </tr>\n",
       "    <tr>\n",
       "      <th>2</th>\n",
       "      <td>2023-01-03</td>\n",
       "      <td>1629.168291</td>\n",
       "      <td>1.965266e+11</td>\n",
       "      <td>5.158446e+09</td>\n",
       "      <td>ETH</td>\n",
       "    </tr>\n",
       "    <tr>\n",
       "      <th>3</th>\n",
       "      <td>2023-01-04</td>\n",
       "      <td>1633.974980</td>\n",
       "      <td>1.969494e+11</td>\n",
       "      <td>4.553926e+09</td>\n",
       "      <td>ETH</td>\n",
       "    </tr>\n",
       "    <tr>\n",
       "      <th>4</th>\n",
       "      <td>2023-01-05</td>\n",
       "      <td>1685.031002</td>\n",
       "      <td>2.029187e+11</td>\n",
       "      <td>9.021987e+09</td>\n",
       "      <td>ETH</td>\n",
       "    </tr>\n",
       "    <tr>\n",
       "      <th>...</th>\n",
       "      <td>...</td>\n",
       "      <td>...</td>\n",
       "      <td>...</td>\n",
       "      <td>...</td>\n",
       "      <td>...</td>\n",
       "    </tr>\n",
       "    <tr>\n",
       "      <th>146</th>\n",
       "      <td>2023-05-27</td>\n",
       "      <td>2469.435168</td>\n",
       "      <td>2.969998e+11</td>\n",
       "      <td>8.432942e+09</td>\n",
       "      <td>ETH</td>\n",
       "    </tr>\n",
       "    <tr>\n",
       "      <th>147</th>\n",
       "      <td>2023-05-28</td>\n",
       "      <td>2471.258077</td>\n",
       "      <td>2.970894e+11</td>\n",
       "      <td>5.492805e+09</td>\n",
       "      <td>ETH</td>\n",
       "    </tr>\n",
       "    <tr>\n",
       "      <th>148</th>\n",
       "      <td>2023-05-29</td>\n",
       "      <td>2589.345540</td>\n",
       "      <td>3.112176e+11</td>\n",
       "      <td>9.778339e+09</td>\n",
       "      <td>ETH</td>\n",
       "    </tr>\n",
       "    <tr>\n",
       "      <th>149</th>\n",
       "      <td>2023-05-30</td>\n",
       "      <td>2564.070190</td>\n",
       "      <td>3.084222e+11</td>\n",
       "      <td>9.155736e+09</td>\n",
       "      <td>ETH</td>\n",
       "    </tr>\n",
       "    <tr>\n",
       "      <th>150</th>\n",
       "      <td>2023-05-31</td>\n",
       "      <td>2567.813089</td>\n",
       "      <td>3.087447e+11</td>\n",
       "      <td>8.130565e+09</td>\n",
       "      <td>ETH</td>\n",
       "    </tr>\n",
       "  </tbody>\n",
       "</table>\n",
       "<p>151 rows × 5 columns</p>\n",
       "</div>"
      ],
      "text/plain": [
       "      datetime   prices_sgd  market_cap_sgd  total_volumes coin\n",
       "0   2023-01-01  1604.162722    1.932975e+11   3.876105e+09  ETH\n",
       "1   2023-01-02  1607.748728    1.937587e+11   2.918871e+09  ETH\n",
       "2   2023-01-03  1629.168291    1.965266e+11   5.158446e+09  ETH\n",
       "3   2023-01-04  1633.974980    1.969494e+11   4.553926e+09  ETH\n",
       "4   2023-01-05  1685.031002    2.029187e+11   9.021987e+09  ETH\n",
       "..         ...          ...             ...            ...  ...\n",
       "146 2023-05-27  2469.435168    2.969998e+11   8.432942e+09  ETH\n",
       "147 2023-05-28  2471.258077    2.970894e+11   5.492805e+09  ETH\n",
       "148 2023-05-29  2589.345540    3.112176e+11   9.778339e+09  ETH\n",
       "149 2023-05-30  2564.070190    3.084222e+11   9.155736e+09  ETH\n",
       "150 2023-05-31  2567.813089    3.087447e+11   8.130565e+09  ETH\n",
       "\n",
       "[151 rows x 5 columns]"
      ]
     },
     "execution_count": 33,
     "metadata": {},
     "output_type": "execute_result"
    }
   ],
   "source": [
    "tdf['ETH']"
   ]
  },
  {
   "cell_type": "code",
   "execution_count": 36,
   "metadata": {},
   "outputs": [],
   "source": [
    "types_ls = list(map(lambda x : type(x), tdf.values()))"
   ]
  },
  {
   "cell_type": "code",
   "execution_count": 37,
   "metadata": {},
   "outputs": [
    {
     "data": {
      "text/plain": [
       "[pandas.core.frame.DataFrame,\n",
       " pandas.core.frame.DataFrame,\n",
       " pandas.core.frame.DataFrame,\n",
       " pandas.core.frame.DataFrame]"
      ]
     },
     "execution_count": 37,
     "metadata": {},
     "output_type": "execute_result"
    }
   ],
   "source": [
    "types_ls"
   ]
  },
  {
   "cell_type": "code",
   "execution_count": 40,
   "metadata": {},
   "outputs": [
    {
     "data": {
      "text/plain": [
       "<module 'grapher' from '/Users/carelchay/PycharmProjects/simple_api/test/../main/grapher.py'>"
      ]
     },
     "execution_count": 40,
     "metadata": {},
     "output_type": "execute_result"
    }
   ],
   "source": [
    "import grapher as gp\n",
    "importlib.reload(gp)"
   ]
  },
  {
   "cell_type": "code",
   "execution_count": 41,
   "metadata": {},
   "outputs": [],
   "source": [
    "empty_figure = gp.plot_comp_metrics(master_dict=tdf, coins = None)"
   ]
  },
  {
   "cell_type": "code",
   "execution_count": 44,
   "metadata": {},
   "outputs": [],
   "source": [
    "import plotly.express as px"
   ]
  },
  {
   "cell_type": "code",
   "execution_count": 47,
   "metadata": {},
   "outputs": [
    {
     "ename": "AttributeError",
     "evalue": "module 'plotly.express' has no attribute '_figure'",
     "output_type": "error",
     "traceback": [
      "\u001b[0;31m---------------------------------------------------------------------------\u001b[0m",
      "\u001b[0;31mAttributeError\u001b[0m                            Traceback (most recent call last)",
      "Cell \u001b[0;32mIn[47], line 1\u001b[0m\n\u001b[0;32m----> 1\u001b[0m px\u001b[39m.\u001b[39;49m_figure\u001b[39m.\u001b[39mFigure\n",
      "\u001b[0;31mAttributeError\u001b[0m: module 'plotly.express' has no attribute '_figure'"
     ]
    }
   ],
   "source": [
    "px._figure.Figure"
   ]
  },
  {
   "cell_type": "code",
   "execution_count": 50,
   "metadata": {},
   "outputs": [
    {
     "data": {
      "text/plain": [
       "True"
      ]
     },
     "execution_count": 50,
     "metadata": {},
     "output_type": "execute_result"
    }
   ],
   "source": [
    "str(type(empty_figure)) == \"<class 'plotly.graph_objs._figure.Figure'>\""
   ]
  },
  {
   "cell_type": "code",
   "execution_count": 49,
   "metadata": {},
   "outputs": [
    {
     "data": {
      "text/plain": [
       "\"<class 'plotly.graph_objs._figure.Figure'>\""
      ]
     },
     "execution_count": 49,
     "metadata": {},
     "output_type": "execute_result"
    }
   ],
   "source": [
    "str(type(empty_figure))"
   ]
  },
  {
   "cell_type": "code",
   "execution_count": null,
   "metadata": {},
   "outputs": [],
   "source": []
  }
 ],
 "metadata": {
  "kernelspec": {
   "display_name": "py_simple_api",
   "language": "python",
   "name": "python3"
  },
  "language_info": {
   "codemirror_mode": {
    "name": "ipython",
    "version": 3
   },
   "file_extension": ".py",
   "mimetype": "text/x-python",
   "name": "python",
   "nbconvert_exporter": "python",
   "pygments_lexer": "ipython3",
   "version": "3.9.11"
  },
  "orig_nbformat": 4
 },
 "nbformat": 4,
 "nbformat_minor": 2
}
